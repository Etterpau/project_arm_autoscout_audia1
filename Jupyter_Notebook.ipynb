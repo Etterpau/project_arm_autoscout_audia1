{
 "cells": [
  {
   "cell_type": "markdown",
   "metadata": {},
   "source": [
    "# Autoscout24, Audi A1"
   ]
  },
  {
   "cell_type": "markdown",
   "metadata": {},
   "source": [
    "## Libraries and settings"
   ]
  },
  {
   "cell_type": "code",
   "execution_count": null,
   "metadata": {},
   "outputs": [],
   "source": [
    "# Load Python libraries\n",
    "import os\n",
    "import pandas as pd\n",
    "import matplotlib.pyplot as plt\n",
    "\n",
    "# Ignore warnings\n",
    "import warnings\n",
    "warnings.filterwarnings(\"ignore\")\n",
    "\n",
    "# Show current working directory\n",
    "print(os.getcwd())"
   ]
  },
  {
   "cell_type": "markdown",
   "metadata": {},
   "source": [
    "## Import data"
   ]
  },
  {
   "cell_type": "code",
   "execution_count": null,
   "metadata": {},
   "outputs": [],
   "source": [
    "## Read data\n",
    "df = pd.read_csv(\"./data/as24_a1_071224.csv\", sep=\",\")\n",
    "df.head()"
   ]
  },
  {
   "cell_type": "markdown",
   "metadata": {},
   "source": [
    "### 2. Data Preparation"
   ]
  },
  {
   "cell_type": "markdown",
   "metadata": {},
   "source": [
    "2.1 Count and identify missing values and remove them: \n",
    "- Vorlesungunterlagen SWxxx, Slide XXX\n",
    "- Exercises SW2, Task 2\n",
    "\n",
    "2.2 Cound and identify duplicates and remove them:\n",
    "- Vorlesungunterlagen SWxxx, Slide XXX\n",
    "- Exercises SW2, Task 2\n",
    "\n",
    "2.3 Create new variables\n",
    "- Vorlesungunterlagen SWxxx, Slide XXX\n",
    "- Exercises SW3, Task 1\n",
    "\n",
    "2.4 Enrich the data with open data\n",
    "- Vorlesungunterlagen SWxxx, Slide XXX\n",
    "- Exercises SWxxx, Task xxx\n",
    "\n",
    "\n",
    "2. Datenaufbereitung (z. B. Umgang mit fehlenden Werten, Duplikaten etc.):\n",
    "Zu finden in Woche 02, Aufgabe 2:\n",
    "- Übungen zur Prüfung und Bereinigung von Daten auf fehlende oder doppelte Werte.\n",
    "\n"
   ]
  },
  {
   "cell_type": "code",
   "execution_count": null,
   "metadata": {},
   "outputs": [],
   "source": [
    "# Count missing values\n",
    "print(pd.isna(df).sum())\n",
    "\n",
    "# Identify rows with missing values\n",
    "df[df.isna().any(axis=1)].head()"
   ]
  },
  {
   "cell_type": "markdown",
   "metadata": {},
   "source": [
    "### Count and identify duplicate values"
   ]
  },
  {
   "cell_type": "code",
   "execution_count": null,
   "metadata": {},
   "outputs": [],
   "source": [
    "# Count duplicated values\n",
    "print(df.duplicated().sum())\n",
    "\n",
    "# Identify rows with duplicated values, e.g.:\n",
    "df[df[['web-scraper-order', 'price_raw', 'address_raw']].duplicated()]"
   ]
  },
  {
   "cell_type": "markdown",
   "metadata": {},
   "source": [
    "### 3. Data Storage"
   ]
  },
  {
   "cell_type": "markdown",
   "metadata": {},
   "source": [
    "3.1 In a database like MySQL or PostgreSQL\n",
    "- Vorlesungunterlagen SWxxx, Slide XXX\n",
    "- Exercises SW 2, Task 4\n",
    "\n",
    "3. Speicherung der Daten in Datenbanken wie SQLite, MySQL oder PostgreSQL:\n",
    "Zu finden in Woche 02, Aufgabe 4:\n",
    "- Speicherung und Abfrage von Daten in einer Datenbank mithilfe des Jupyter-Notebooks\n",
    "`apartments_database_Python.ipynb`.\n"
   ]
  },
  {
   "cell_type": "markdown",
   "metadata": {},
   "source": [
    "### 4. Exploratory data analysis (EDA)"
   ]
  },
  {
   "cell_type": "markdown",
   "metadata": {},
   "source": [
    "4.1 Rich non-graphical and graphical exploratory data analysis (EDA)\n",
    "- Vorlesungunterlagen SWxxx, Slide XXX\n",
    "- Exercises SW3, Task 3\n",
    "- Exercises SW 4, Task 3, 4\n",
    "\n",
    "\n",
    "4. Explorative Datenanalyse (EDA):\n",
    "Zu finden in Woche 04, Aufgabe 2:\n",
    "- Identifikation und Entfernung von Ausreißern sowie Visualisierung von Statistiken und\n",
    "Verteilungen.\n",
    "\n",
    "Zu finden in Woche 05, Aufgabe 1:\n",
    "- Nutzung von Python für grundlegende GIS-Funktionen und die Analyse räumlicher Daten."
   ]
  },
  {
   "cell_type": "markdown",
   "metadata": {},
   "source": [
    "### 5. Modeling Method"
   ]
  },
  {
   "cell_type": "markdown",
   "metadata": {},
   "source": [
    "5.1 Use of multiple linear regression, regression tree or random forest regression as the modeling method\n",
    "- Vorlesungunterlagen SWxxx, Slide XXX\n",
    "- Exercises SW6, Task 2-5\n",
    "- Exercises SW7, Task 1-2\n",
    "\n",
    "5. Verwendung von Modellierungsmethoden (z. B. multiple lineare Regression, Entscheidungsbaum,\n",
    "Random Forest):\n",
    "Zu finden in Woche 07, Aufgaben 1 und 2:\n",
    "- Durchführung von linearer Regression und Analyse von Entscheidungsbäumen sowie Random\n",
    "Forest."
   ]
  },
  {
   "cell_type": "markdown",
   "metadata": {},
   "source": [
    "### 6. Model evaluation"
   ]
  },
  {
   "cell_type": "markdown",
   "metadata": {},
   "source": [
    "6.1 Model evaluation using suitable measures of fit (e.g. r-squared, rmse)\n",
    "- Vorlesungunterlagen SWxxx, Slide XXX\n",
    "- - Exercises SW7, Task 1-2\n",
    "\n",
    "\n",
    "6. Modellevaluation (z. B. R-Quadrat, RMSE):\n",
    "Zu finden in Woche 07, Aufgabe 1 (b, c):\n",
    "- Evaluation der Modelle mithilfe von R-Quadrat und Residuen.\n"
   ]
  },
  {
   "cell_type": "markdown",
   "metadata": {},
   "source": [
    "### 7. Interpretation"
   ]
  },
  {
   "cell_type": "markdown",
   "metadata": {},
   "source": [
    "7.1 Correct interpretation of model results and measures of fit\n",
    "- Vorlesungunterlagen SWxxx, Slide XXX\n",
    "- Exercises SW7, Task 2\n",
    "\n",
    "\n",
    "7. Korrekte Interpretation von Modellergebnissen und Gütemaßen:\n",
    "Zu finden in Woche 07, Aufgaben 1 und 2:\n",
    "- Interpretation der Ergebnisse in den Bereichen lineare Regression und Random Forest.\n",
    "\n",
    "\n",
    "8. Bereitstellung der Materialien in Jupyter-Notebooks:\n",
    "In allen Wochen enthalten:\n",
    "- Jede Aufgabe verlangt die Einreichung von Jupyter-Notebooks als `.html`-Dateien mit\n",
    "entsprechenden Erklärungen."
   ]
  },
  {
   "cell_type": "markdown",
   "metadata": {},
   "source": [
    "1. Kreativität der Umsetzung:\n",
    "- Hängt davon ab, wie einzigartig und innovativ du die Aufgaben kombinierst und erweiterst.\n",
    "2. Verwendung von MySQL- oder PostgreSQL-Datenbanken:\n",
    "Zu finden in Woche 02, Aufgabe 4:\n",
    "- Standardmäßig wird SQLite verwendet, die Anpassung auf MySQL/PostgreSQL könnte jedoch\n",
    "Kreativität zeigen.\n",
    "3. Integration und Visualisierung geografischer Daten:\n",
    "Zu finden in Woche 05, Aufgaben 1 und 3:\n",
    "- GIS-Funktionen und Analyse nächster Nachbarn.\n",
    "4. Verwendung des Chi-Quadrat-Tests oder ANOVA:\n",
    "Zu finden in Woche 06, Aufgaben 3 und 4:\n",
    "- Aufgaben mit Fokus auf einseitige Varianzanalyse (ANOVA) und Chi-Quadrat-Tests.\n",
    "5. Verwendung von mehr als einem Modell für Vorhersagen:\n",
    "Zu finden in Woche 07, Aufgaben 1 und 2:\n",
    "- Einsatz von mehreren Modellen wie linearer Regression und Random Forest.\n",
    "Projektpräsentation in Videoform (Maximal 3 Punkte):\n",
    "Die Präsentation sollte den Inhalt und die Struktur der oben genannten Aufgaben klar und\n",
    "überzeugend darstellen."
   ]
  }
 ],
 "metadata": {
  "kernelspec": {
   "display_name": "Python 3",
   "language": "python",
   "name": "python3"
  },
  "language_info": {
   "codemirror_mode": {
    "name": "ipython",
    "version": 3
   },
   "file_extension": ".py",
   "mimetype": "text/x-python",
   "name": "python",
   "nbconvert_exporter": "python",
   "pygments_lexer": "ipython3",
   "version": "3.11.10"
  }
 },
 "nbformat": 4,
 "nbformat_minor": 2
}
