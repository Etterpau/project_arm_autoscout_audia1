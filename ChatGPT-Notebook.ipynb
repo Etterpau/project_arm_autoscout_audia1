{
 "cells": [
  {
   "cell_type": "markdown",
   "id": "ecb04e0d",
   "metadata": {},
   "source": [
    "# Workflow für Datenanalyse und Modellierung"
   ]
  },
  {
   "cell_type": "markdown",
   "id": "bf6cae57",
   "metadata": {},
   "source": [
    "## 1. Import Libraries"
   ]
  },
  {
   "cell_type": "code",
   "execution_count": null,
   "id": "9155a914",
   "metadata": {},
   "outputs": [],
   "source": [
    "\n",
    "import pandas as pd\n",
    "import numpy as np\n",
    "import seaborn as sns\n",
    "import matplotlib.pyplot as plt\n",
    "from sklearn.model_selection import train_test_split\n",
    "from sklearn.linear_model import LinearRegression\n",
    "from sklearn.tree import DecisionTreeRegressor\n",
    "from sklearn.ensemble import RandomForestRegressor\n",
    "from sklearn.metrics import r2_score, mean_squared_error\n",
    "import mysql.connector\n"
   ]
  },
  {
   "cell_type": "markdown",
   "id": "532ada36",
   "metadata": {},
   "source": [
    "## 2. Daten einlesen"
   ]
  },
  {
   "cell_type": "code",
   "execution_count": null,
   "id": "f9f35d01",
   "metadata": {},
   "outputs": [],
   "source": [
    "\n",
    "# Beispiel: Daten aus einer CSV-Datei einlesen\n",
    "file_path = \"data.csv\"\n",
    "data = pd.read_csv(file_path)\n",
    "data.head()\n"
   ]
  },
  {
   "cell_type": "markdown",
   "id": "a5cf954d",
   "metadata": {},
   "source": [
    "## 3. Daten aufbereiten"
   ]
  },
  {
   "cell_type": "code",
   "execution_count": null,
   "id": "c8a843c2",
   "metadata": {},
   "outputs": [],
   "source": [
    "\n",
    "# Fehlende Werte entfernen\n",
    "data = data.dropna()\n",
    "\n",
    "# Duplikate entfernen\n",
    "data = data.drop_duplicates()\n",
    "\n",
    "# Neue Variable erstellen (Beispiel)\n",
    "data['new_variable'] = data['existing_variable'] * 2\n",
    "\n",
    "# Open Data Integration (Platzhalter für API-Aufruf)\n",
    "# Beispiel: Daten aus einer anderen Quelle hinzufügen\n",
    "# open_data = pd.read_csv(\"open_data.csv\")\n",
    "# data = data.merge(open_data, on='key_column', how='left')\n",
    "\n",
    "data.head()\n"
   ]
  },
  {
   "cell_type": "markdown",
   "id": "c0f83654",
   "metadata": {},
   "source": [
    "## 4. Datenspeicherung in der Datenbank MySQL"
   ]
  },
  {
   "cell_type": "code",
   "execution_count": null,
   "id": "bc49f134",
   "metadata": {},
   "outputs": [],
   "source": [
    "\n",
    "# Verbindung zur MySQL-Datenbank herstellen (Beispielkonfiguration)\n",
    "conn = mysql.connector.connect(\n",
    "    host=\"localhost\",\n",
    "    user=\"user\",\n",
    "    password=\"password\",\n",
    "    database=\"database_name\"\n",
    ")\n",
    "cursor = conn.cursor()\n",
    "\n",
    "# Tabelle erstellen und Daten einfügen (Beispiel)\n",
    "# cursor.execute(\"CREATE TABLE IF NOT EXISTS table_name (columns_definition)\")\n",
    "# data.to_sql('table_name', conn, if_exists='replace', index=False)\n",
    "conn.commit()\n",
    "cursor.close()\n",
    "conn.close()\n"
   ]
  },
  {
   "cell_type": "markdown",
   "id": "fc389857",
   "metadata": {},
   "source": [
    "## 5. Explorative Datenanalyse (EDA)"
   ]
  },
  {
   "cell_type": "markdown",
   "id": "015d4de5",
   "metadata": {},
   "source": [
    "### Nicht-grafische Analysen"
   ]
  },
  {
   "cell_type": "code",
   "execution_count": null,
   "id": "2c04c0da",
   "metadata": {},
   "outputs": [],
   "source": [
    "\n",
    "# Statistiken anzeigen\n",
    "print(data.describe())\n",
    "\n",
    "# Korrelationen berechnen\n",
    "print(data.corr())\n"
   ]
  },
  {
   "cell_type": "markdown",
   "id": "900578c6",
   "metadata": {},
   "source": [
    "### Grafische Analysen"
   ]
  },
  {
   "cell_type": "code",
   "execution_count": null,
   "id": "d3a552dc",
   "metadata": {},
   "outputs": [],
   "source": [
    "\n",
    "# Histogramme\n",
    "data.hist(figsize=(10, 8))\n",
    "plt.show()\n",
    "\n",
    "# Heatmap der Korrelationen\n",
    "sns.heatmap(data.corr(), annot=True, cmap=\"coolwarm\")\n",
    "plt.show()\n"
   ]
  },
  {
   "cell_type": "markdown",
   "id": "0c54f560",
   "metadata": {},
   "source": [
    "## 6. Modellierung"
   ]
  },
  {
   "cell_type": "code",
   "execution_count": null,
   "id": "9fd11b62",
   "metadata": {},
   "outputs": [],
   "source": [
    "\n",
    "# Daten aufteilen\n",
    "X = data.drop('target', axis=1)  # Features\n",
    "y = data['target']  # Zielvariable\n",
    "\n",
    "X_train, X_test, y_train, y_test = train_test_split(X, y, test_size=0.2, random_state=42)\n",
    "\n",
    "# Multiple lineare Regression\n",
    "linear_model = LinearRegression()\n",
    "linear_model.fit(X_train, y_train)\n",
    "linear_preds = linear_model.predict(X_test)\n",
    "\n",
    "# Regressionsbaum\n",
    "tree_model = DecisionTreeRegressor(random_state=42)\n",
    "tree_model.fit(X_train, y_train)\n",
    "tree_preds = tree_model.predict(X_test)\n",
    "\n",
    "# Random Forest Regression\n",
    "forest_model = RandomForestRegressor(random_state=42)\n",
    "forest_model.fit(X_train, y_train)\n",
    "forest_preds = forest_model.predict(X_test)\n"
   ]
  },
  {
   "cell_type": "markdown",
   "id": "23e44f04",
   "metadata": {},
   "source": [
    "## 7. Modellbewertung"
   ]
  },
  {
   "cell_type": "code",
   "execution_count": null,
   "id": "e2fb4463",
   "metadata": {},
   "outputs": [],
   "source": [
    "\n",
    "# Funktion zur Modellbewertung\n",
    "def evaluate_model(true, preds):\n",
    "    r2 = r2_score(true, preds)\n",
    "    rmse = mean_squared_error(true, preds, squared=False)\n",
    "    return r2, rmse\n",
    "\n",
    "# Modelle bewerten\n",
    "models = {\n",
    "    \"Linear Regression\": linear_preds,\n",
    "    \"Decision Tree\": tree_preds,\n",
    "    \"Random Forest\": forest_preds\n",
    "}\n",
    "\n",
    "for model_name, preds in models.items():\n",
    "    r2, rmse = evaluate_model(y_test, preds)\n",
    "    print(f\"{model_name} -> R2: {r2:.2f}, RMSE: {rmse:.2f}\")\n"
   ]
  }
 ],
 "metadata": {},
 "nbformat": 4,
 "nbformat_minor": 5
}
