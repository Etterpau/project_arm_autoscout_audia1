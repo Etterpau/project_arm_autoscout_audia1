{
 "cells": [
  {
   "cell_type": "markdown",
   "metadata": {},
   "source": [
    "# ARM Quantitative Group project - Autoscout24, Audi A4\n",
    "\n",
    "Deadline: 12.01.2025, 23.59 Uhr"
   ]
  },
  {
   "cell_type": "markdown",
   "metadata": {},
   "source": [
    "Unsere Gedanken: Besteht eine Abhängigkeit zwischen dem Antrieb (Allrad, Vorderradantrieb) und dem Preis."
   ]
  },
  {
   "cell_type": "markdown",
   "metadata": {},
   "source": [
    "## Libraries and settings"
   ]
  },
  {
   "cell_type": "code",
   "execution_count": 50,
   "metadata": {},
   "outputs": [
    {
     "name": "stdout",
     "output_type": "stream",
     "text": [
      "/workspaces/project_arm_autoscout_audia1\n",
      "/workspaces/project_arm_autoscout_audia1\n"
     ]
    }
   ],
   "source": [
    "# Libraries\n",
    "import os\n",
    "import sqlite3\n",
    "import fnmatch\n",
    "import re\n",
    "import numpy as np\n",
    "import pandas as pd\n",
    "import matplotlib.pyplot as plt\n",
    "\n",
    "# Ignore warnings\n",
    "import warnings\n",
    "warnings.filterwarnings(\"ignore\")\n",
    "\n",
    "# Show current working directory\n",
    "print(os.getcwd())\n",
    "\n",
    "\n",
    "# Function to close a sqlite db-connection\n",
    "def check_conn(conn):\n",
    "     try:\n",
    "        conn.cursor()\n",
    "        return True\n",
    "     except Exception as ex:\n",
    "        return False\n",
    "\n",
    "# Get current working directory\n",
    "print(os.getcwd())"
   ]
  },
  {
   "cell_type": "markdown",
   "metadata": {},
   "source": [
    "## Import data"
   ]
  },
  {
   "cell_type": "code",
   "execution_count": 51,
   "metadata": {},
   "outputs": [
    {
     "name": "stdout",
     "output_type": "stream",
     "text": [
      "Index(['web-scraper-order', 'web-scraper-start-url', 'as24_a1', 'as24_a1-href',\n",
      "       'title_raw', 'short_description_raw', 'price_raw', 'car_data_raw',\n",
      "       'first_release_raw', 'mileage_raw', 'transmission_raw', 'drive_raw',\n",
      "       'cartype_raw', 'fuel_raw', 'ps_raw', 'fuel_consumption_raw',\n",
      "       'motor_vehicle_inspection_raw', 'accidentcar_raw', 'guarantee_raw',\n",
      "       'car_description_raw', 'equipment_raw', 'seller_raw',\n",
      "       'selleraddress_raw', 'sellerwebsite_raw', 'seller_phonenumber_raw'],\n",
      "      dtype='object')\n"
     ]
    },
    {
     "data": {
      "text/html": [
       "<div>\n",
       "<style scoped>\n",
       "    .dataframe tbody tr th:only-of-type {\n",
       "        vertical-align: middle;\n",
       "    }\n",
       "\n",
       "    .dataframe tbody tr th {\n",
       "        vertical-align: top;\n",
       "    }\n",
       "\n",
       "    .dataframe thead th {\n",
       "        text-align: right;\n",
       "    }\n",
       "</style>\n",
       "<table border=\"1\" class=\"dataframe\">\n",
       "  <thead>\n",
       "    <tr style=\"text-align: right;\">\n",
       "      <th></th>\n",
       "      <th>web-scraper-order</th>\n",
       "      <th>title_raw</th>\n",
       "      <th>price_raw</th>\n",
       "      <th>mileage_raw</th>\n",
       "      <th>drive_raw</th>\n",
       "      <th>cartype_raw</th>\n",
       "      <th>fuel_raw</th>\n",
       "      <th>ps_raw</th>\n",
       "      <th>fuel_consumption_raw</th>\n",
       "      <th>seller_raw</th>\n",
       "      <th>selleraddress_raw</th>\n",
       "    </tr>\n",
       "  </thead>\n",
       "  <tbody>\n",
       "    <tr>\n",
       "      <th>0</th>\n",
       "      <td>1734006862-1</td>\n",
       "      <td>AUDI A4 Avant 40 TDI quattro S-tronic</td>\n",
       "      <td>CHF 21'999.–</td>\n",
       "      <td>136'000 km</td>\n",
       "      <td>Allrad</td>\n",
       "      <td>Kombi</td>\n",
       "      <td>Diesel</td>\n",
       "      <td>190 PS (140 kW)</td>\n",
       "      <td>6.1 l/100 km</td>\n",
       "      <td>uniAuto AG</td>\n",
       "      <td>Moosburgstrasse 12, 9200 Gossau</td>\n",
       "    </tr>\n",
       "    <tr>\n",
       "      <th>1</th>\n",
       "      <td>1734006865-2</td>\n",
       "      <td>AUDI A4 Avant 1.4 TFSI Sport S-Tronic</td>\n",
       "      <td>CHF 21'990.–</td>\n",
       "      <td>79'116 km</td>\n",
       "      <td>Vorderradantrieb</td>\n",
       "      <td>Kombi</td>\n",
       "      <td>Benzin</td>\n",
       "      <td>150 PS (110 kW)</td>\n",
       "      <td>5.5 l/100 km</td>\n",
       "      <td>Allenmoos Garage GmbH</td>\n",
       "      <td>Hofwiesenstrasse 268, 8050 Zürich</td>\n",
       "    </tr>\n",
       "    <tr>\n",
       "      <th>2</th>\n",
       "      <td>1734006867-3</td>\n",
       "      <td>AUDI A4 Cabriolet 1.8 Turbo</td>\n",
       "      <td>CHF 7'900.–</td>\n",
       "      <td>100'000 km</td>\n",
       "      <td>Vorderradantrieb</td>\n",
       "      <td>Cabriolet</td>\n",
       "      <td>Benzin</td>\n",
       "      <td>163 PS (120 kW)</td>\n",
       "      <td>8.7 l/100 km</td>\n",
       "      <td>Bruno Keller</td>\n",
       "      <td>Ueberlandstr. 34, 8051 Zürich/ Schwamendingen</td>\n",
       "    </tr>\n",
       "    <tr>\n",
       "      <th>3</th>\n",
       "      <td>1734006869-4</td>\n",
       "      <td>AUDI A4 Avant 2.0 TDI Sport quattro S-tronic</td>\n",
       "      <td>CHF 13'900.–</td>\n",
       "      <td>218'000 km</td>\n",
       "      <td>Allrad</td>\n",
       "      <td>Kombi</td>\n",
       "      <td>Diesel</td>\n",
       "      <td>190 PS (140 kW)</td>\n",
       "      <td>4.5 l/100 km</td>\n",
       "      <td>PTE GmbH</td>\n",
       "      <td>Seetalstrasse 44, 6020 Emmenbrücke</td>\n",
       "    </tr>\n",
       "    <tr>\n",
       "      <th>4</th>\n",
       "      <td>1734006872-5</td>\n",
       "      <td>AUDI A4 Avant 40 TDI Sport quattro S-tronic</td>\n",
       "      <td>CHF 27'800.–</td>\n",
       "      <td>107'000 km</td>\n",
       "      <td>Allrad</td>\n",
       "      <td>Kombi</td>\n",
       "      <td>Diesel</td>\n",
       "      <td>190 PS (140 kW)</td>\n",
       "      <td>5 l/100 km</td>\n",
       "      <td>Garage Gfeller GmbH</td>\n",
       "      <td>Unterdorf 1, 8261 Hemishofen</td>\n",
       "    </tr>\n",
       "  </tbody>\n",
       "</table>\n",
       "</div>"
      ],
      "text/plain": [
       "  web-scraper-order                                     title_raw  \\\n",
       "0      1734006862-1         AUDI A4 Avant 40 TDI quattro S-tronic   \n",
       "1      1734006865-2         AUDI A4 Avant 1.4 TFSI Sport S-Tronic   \n",
       "2      1734006867-3                   AUDI A4 Cabriolet 1.8 Turbo   \n",
       "3      1734006869-4  AUDI A4 Avant 2.0 TDI Sport quattro S-tronic   \n",
       "4      1734006872-5   AUDI A4 Avant 40 TDI Sport quattro S-tronic   \n",
       "\n",
       "      price_raw mileage_raw         drive_raw cartype_raw fuel_raw  \\\n",
       "0  CHF 21'999.–  136'000 km            Allrad       Kombi   Diesel   \n",
       "1  CHF 21'990.–   79'116 km  Vorderradantrieb       Kombi   Benzin   \n",
       "2   CHF 7'900.–  100'000 km  Vorderradantrieb   Cabriolet   Benzin   \n",
       "3  CHF 13'900.–  218'000 km            Allrad       Kombi   Diesel   \n",
       "4  CHF 27'800.–  107'000 km            Allrad       Kombi   Diesel   \n",
       "\n",
       "            ps_raw fuel_consumption_raw             seller_raw  \\\n",
       "0  190 PS (140 kW)         6.1 l/100 km             uniAuto AG   \n",
       "1  150 PS (110 kW)         5.5 l/100 km  Allenmoos Garage GmbH   \n",
       "2  163 PS (120 kW)         8.7 l/100 km           Bruno Keller   \n",
       "3  190 PS (140 kW)         4.5 l/100 km               PTE GmbH   \n",
       "4  190 PS (140 kW)           5 l/100 km    Garage Gfeller GmbH   \n",
       "\n",
       "                               selleraddress_raw  \n",
       "0                Moosburgstrasse 12, 9200 Gossau  \n",
       "1              Hofwiesenstrasse 268, 8050 Zürich  \n",
       "2  Ueberlandstr. 34, 8051 Zürich/ Schwamendingen  \n",
       "3             Seetalstrasse 44, 6020 Emmenbrücke  \n",
       "4                   Unterdorf 1, 8261 Hemishofen  "
      ]
     },
     "execution_count": 51,
     "metadata": {},
     "output_type": "execute_result"
    }
   ],
   "source": [
    "## Read data\n",
    "df = pd.read_csv(\"./data/as24_a4.csv\", sep=\",\")\n",
    "df.head()\n",
    "\n",
    "# Show column names from df\n",
    "print(df.columns)\n",
    "\n",
    "# define the columns to keep\n",
    "colums = ['web-scraper-order',\n",
    "          'title_raw',\n",
    "        'price_raw', \n",
    "        'mileage_raw',\n",
    "        'drive_raw',\n",
    "       'cartype_raw',\n",
    "       'fuel_raw',\n",
    "       'ps_raw',\n",
    "       'fuel_consumption_raw',\n",
    "       'seller_raw',\n",
    "       'selleraddress_raw',]\n",
    "\n",
    "# keep only the columns we are interested in\n",
    "df = df[colums]\n",
    "\n",
    "# Show first records of data frame\n",
    "df.head()"
   ]
  },
  {
   "cell_type": "markdown",
   "metadata": {},
   "source": [
    "### 2. Data Preparation"
   ]
  },
  {
   "cell_type": "markdown",
   "metadata": {},
   "source": [
    "2.1 Count and identify missing values and remove them: \n",
    "- Vorlesungunterlagen SWxxx, Slide XXX\n",
    "- Exercises SW2, Task 2\n",
    "\n",
    "2.2 Cound and identify duplicates and remove them:\n",
    "- Vorlesungunterlagen SWxxx, Slide XXX\n",
    "- Exercises SW2, Task 2\n",
    "\n",
    "2.3 Create new variables\n",
    "- Vorlesungunterlagen SWxxx, Slide XXX\n",
    "- Exercises SW3, Task 1\n",
    "\n",
    "2.4 Enrich the data with open data\n",
    "- Vorlesungunterlagen SWxxx, Slide XXX\n",
    "- Exercises SWxxx, Task xxx\n",
    "\n",
    "\n",
    "2. Datenaufbereitung (z. B. Umgang mit fehlenden Werten, Duplikaten etc.):\n",
    "Zu finden in Woche 02, Aufgabe 2:\n",
    "- Übungen zur Prüfung und Bereinigung von Daten auf fehlende oder doppelte Werte.\n",
    "\n"
   ]
  },
  {
   "cell_type": "markdown",
   "metadata": {},
   "source": [
    "### 2.1 Count numbers of rows and columns"
   ]
  },
  {
   "cell_type": "code",
   "execution_count": 52,
   "metadata": {},
   "outputs": [
    {
     "name": "stdout",
     "output_type": "stream",
     "text": [
      "Dimension: (409, 11)\n",
      "Number of rows: 409\n",
      "Number of columns: 11\n"
     ]
    }
   ],
   "source": [
    "# Dimension (rows, columns)\n",
    "print('Dimension:', df.shape)\n",
    "\n",
    "# Number of rows\n",
    "print('Number of rows:', df.shape[0])\n",
    "\n",
    "# Number of columns\n",
    "print('Number of columns:', df.shape[1])"
   ]
  },
  {
   "cell_type": "markdown",
   "metadata": {},
   "source": [
    "### 2.2 Get data types (raw-format from web scraping)"
   ]
  },
  {
   "cell_type": "code",
   "execution_count": 53,
   "metadata": {},
   "outputs": [
    {
     "data": {
      "text/plain": [
       "web-scraper-order       object\n",
       "title_raw               object\n",
       "price_raw               object\n",
       "mileage_raw             object\n",
       "drive_raw               object\n",
       "cartype_raw             object\n",
       "fuel_raw                object\n",
       "ps_raw                  object\n",
       "fuel_consumption_raw    object\n",
       "seller_raw              object\n",
       "selleraddress_raw       object\n",
       "dtype: object"
      ]
     },
     "execution_count": 53,
     "metadata": {},
     "output_type": "execute_result"
    }
   ],
   "source": [
    "# Get data types (note that in pandas, a string is referred to as 'object')\n",
    "df.dtypes"
   ]
  },
  {
   "cell_type": "markdown",
   "metadata": {},
   "source": [
    "### 2.3 Extract & save relevant information from raw data using regular expressions (regex)"
   ]
  },
  {
   "cell_type": "markdown",
   "metadata": {},
   "source": [
    "Extract model of A4"
   ]
  },
  {
   "cell_type": "code",
   "execution_count": 54,
   "metadata": {},
   "outputs": [
    {
     "name": "stdout",
     "output_type": "stream",
     "text": [
      "0           AUDI A4 Avant 40 TDI quattro S-tronic\n",
      "1           AUDI A4 Avant 1.4 TFSI Sport S-Tronic\n",
      "2                     AUDI A4 Cabriolet 1.8 Turbo\n",
      "3    AUDI A4 Avant 2.0 TDI Sport quattro S-tronic\n",
      "4     AUDI A4 Avant 40 TDI Sport quattro S-tronic\n",
      "Name: title_raw, dtype: object \n",
      "\n",
      "0           Avant 40 TDI quattro S-tronic\n",
      "1           Avant 1.4 TFSI Sport S-Tronic\n",
      "2                     Cabriolet 1.8 Turbo\n",
      "3    Avant 2.0 TDI Sport quattro S-tronic\n",
      "4     Avant 40 TDI Sport quattro S-tronic\n",
      "Name: model, dtype: object\n"
     ]
    }
   ],
   "source": [
    "# Extract values from \"title_raw\" strings\n",
    "model = []\n",
    "for i in df['title_raw']:\n",
    "    # remove \"AUDI A4\"\n",
    "    cleaned_str = re.sub(r'AUDI A4', '', i).strip()\n",
    "    model.append(cleaned_str)\n",
    "\n",
    "# Save as new variable in the pandas data frame\n",
    "df['model'] = pd.Series(model)\n",
    "\n",
    "# Print the first 5 values\n",
    "print(df['title_raw'].head(5), '\\n')\n",
    "print(df['model'].head(5))"
   ]
  },
  {
   "cell_type": "markdown",
   "metadata": {},
   "source": [
    "Extract price"
   ]
  },
  {
   "cell_type": "code",
   "execution_count": 55,
   "metadata": {},
   "outputs": [
    {
     "name": "stdout",
     "output_type": "stream",
     "text": [
      "0    CHF 21'999.–\n",
      "1    CHF 21'990.–\n",
      "2     CHF 7'900.–\n",
      "3    CHF 13'900.–\n",
      "4    CHF 27'800.–\n",
      "Name: price_raw, dtype: object \n",
      "\n",
      "0    21999\n",
      "1    21990\n",
      "2     7900\n",
      "3    13900\n",
      "4    27800\n",
      "Name: price, dtype: Int64\n"
     ]
    }
   ],
   "source": [
    "# Extract values from 'price_raw' strings\n",
    "price = []\n",
    "for i in df['price_raw']:\n",
    "    # Remove \"CHF\" and \".-\" and extract numbers\n",
    "    d1 = re.findall('[0-9\\']+', i.replace(\"CHF\", \"\").replace(\".-\", \"\"))\n",
    "    try:\n",
    "        d2 = d1[0].replace(\"'\", \"\")  # remove thousands separator\n",
    "        d2 = int(d2)  # convert to integer\n",
    "    except:\n",
    "        d2 = None\n",
    "    price.append(d2)\n",
    "\n",
    "# Save as new variable in the pandas data frame\n",
    "df['price'] = pd.Series(price, dtype=\"Int64\")\n",
    "\n",
    "# Print first 5 values\n",
    "print(df['price_raw'].head(5), '\\n')\n",
    "print(df['price'].head(5))"
   ]
  },
  {
   "cell_type": "markdown",
   "metadata": {},
   "source": [
    "Extract mileage"
   ]
  },
  {
   "cell_type": "code",
   "execution_count": 56,
   "metadata": {},
   "outputs": [
    {
     "name": "stdout",
     "output_type": "stream",
     "text": [
      "0    136'000 km\n",
      "1     79'116 km\n",
      "2    100'000 km\n",
      "3    218'000 km\n",
      "4    107'000 km\n",
      "Name: mileage_raw, dtype: object \n",
      "\n",
      "0    136000\n",
      "1     79116\n",
      "2    100000\n",
      "3    218000\n",
      "4    107000\n",
      "Name: mileage, dtype: Int64\n"
     ]
    }
   ],
   "source": [
    "# Extract values from 'mileage_raw' strings\n",
    "mileage = []\n",
    "for i in df['mileage_raw']:\n",
    "    # Remove \"km\" and extract numbers\n",
    "    d1 = re.findall('[0-9\\']+', i.replace(\"km\", \"\"))\n",
    "    try:\n",
    "        d2 = d1[0].replace(\"'\", \"\")  # remove thousands separator\n",
    "        d2 = int(d2)  # convert to integer\n",
    "    except:\n",
    "        d2 = None\n",
    "    mileage.append(d2)\n",
    "\n",
    "# Save as new variable in the pandas data frame\n",
    "df['mileage'] = pd.Series(mileage, dtype=\"Int64\")\n",
    "\n",
    "# Print first 5 values\n",
    "print(df['mileage_raw'].head(5), '\\n')\n",
    "print(df['mileage'].head(5))"
   ]
  },
  {
   "cell_type": "markdown",
   "metadata": {},
   "source": [
    "Extract fuel consumption"
   ]
  },
  {
   "cell_type": "code",
   "execution_count": 57,
   "metadata": {},
   "outputs": [
    {
     "name": "stdout",
     "output_type": "stream",
     "text": [
      "0    6.1 l/100 km\n",
      "1    5.5 l/100 km\n",
      "2    8.7 l/100 km\n",
      "3    4.5 l/100 km\n",
      "4      5 l/100 km\n",
      "Name: fuel_consumption_raw, dtype: object \n",
      "\n",
      "0    6.1\n",
      "1    5.5\n",
      "2    8.7\n",
      "3    4.5\n",
      "4    5.0\n",
      "Name: fuel_consumption, dtype: float64\n"
     ]
    }
   ],
   "source": [
    "# Extract values from 'fuel_consumption_raw' strings\n",
    "fuel_consumption = []\n",
    "for i in df['fuel_consumption_raw']:\n",
    "    # remove \"l/100km\" and extract numbers\n",
    "    cleaned_str = re.sub(r'l/100 km', '', i).strip()\n",
    "    try:\n",
    "        fuel_value = float(cleaned_str)  # convert to float\n",
    "    except:\n",
    "        fuel_value = None\n",
    "    fuel_consumption.append(fuel_value)\n",
    "\n",
    "# Save as new variable in the pandas data frame\n",
    "df['fuel_consumption'] = pd.Series(fuel_consumption)\n",
    "\n",
    "# Print first 5 values\n",
    "print(df['fuel_consumption_raw'].head(5), '\\n')\n",
    "print(df['fuel_consumption'].head(5))"
   ]
  },
  {
   "cell_type": "markdown",
   "metadata": {},
   "source": [
    "Extract PS"
   ]
  },
  {
   "cell_type": "code",
   "execution_count": 58,
   "metadata": {},
   "outputs": [
    {
     "name": "stdout",
     "output_type": "stream",
     "text": [
      "0    190 PS (140 kW)\n",
      "1    150 PS (110 kW)\n",
      "2    163 PS (120 kW)\n",
      "3    190 PS (140 kW)\n",
      "4    190 PS (140 kW)\n",
      "Name: ps_raw, dtype: object \n",
      "\n",
      "0    190\n",
      "1    150\n",
      "2    163\n",
      "3    190\n",
      "4    190\n",
      "Name: ps, dtype: Int64\n"
     ]
    }
   ],
   "source": [
    "# Extract values from 'ps_raw' strings\n",
    "ps = []\n",
    "for i in df['ps_raw']:\n",
    "    # Remove \"PS\" und \"(xx kW)\" und extract numbers\n",
    "    cleaned_str = re.sub(r'\\(.*?\\)', '', i).replace(\"PS\", \"\").strip()\n",
    "    d1 = re.findall('[0-9\\']+', cleaned_str)\n",
    "    try:\n",
    "        ps_value = int(cleaned_str)  # convert to integer\n",
    "    except:\n",
    "        d2 = None\n",
    "    ps.append(ps_value)\n",
    "\n",
    "# Save as new variable in the pandas data frame\n",
    "df['ps'] = pd.Series(ps, dtype=\"Int64\")\n",
    "\n",
    "# Print first 5 values\n",
    "print(df['ps_raw'].head(5), '\\n')\n",
    "print(df['ps'].head(5))"
   ]
  },
  {
   "cell_type": "markdown",
   "metadata": {},
   "source": [
    "Get data types of all variables including the new ones"
   ]
  },
  {
   "cell_type": "code",
   "execution_count": 59,
   "metadata": {},
   "outputs": [
    {
     "data": {
      "text/plain": [
       "web-scraper-order        object\n",
       "title_raw                object\n",
       "price_raw                object\n",
       "mileage_raw              object\n",
       "drive_raw                object\n",
       "cartype_raw              object\n",
       "fuel_raw                 object\n",
       "ps_raw                   object\n",
       "fuel_consumption_raw     object\n",
       "seller_raw               object\n",
       "selleraddress_raw        object\n",
       "model                    object\n",
       "price                     Int64\n",
       "mileage                   Int64\n",
       "fuel_consumption        float64\n",
       "ps                        Int64\n",
       "dtype: object"
      ]
     },
     "execution_count": 59,
     "metadata": {},
     "output_type": "execute_result"
    }
   ],
   "source": [
    "df.dtypes"
   ]
  },
  {
   "cell_type": "markdown",
   "metadata": {},
   "source": [
    "### 2.4 Count and identify missing values (if any)"
   ]
  },
  {
   "cell_type": "code",
   "execution_count": 60,
   "metadata": {},
   "outputs": [
    {
     "name": "stdout",
     "output_type": "stream",
     "text": [
      "web-scraper-order        0\n",
      "title_raw                0\n",
      "price_raw                0\n",
      "mileage_raw              0\n",
      "drive_raw                0\n",
      "cartype_raw              0\n",
      "fuel_raw                 0\n",
      "ps_raw                   0\n",
      "fuel_consumption_raw     0\n",
      "seller_raw               0\n",
      "selleraddress_raw        0\n",
      "model                    0\n",
      "price                    0\n",
      "mileage                  0\n",
      "fuel_consumption        49\n",
      "ps                       0\n",
      "dtype: int64\n"
     ]
    },
    {
     "data": {
      "text/html": [
       "<div>\n",
       "<style scoped>\n",
       "    .dataframe tbody tr th:only-of-type {\n",
       "        vertical-align: middle;\n",
       "    }\n",
       "\n",
       "    .dataframe tbody tr th {\n",
       "        vertical-align: top;\n",
       "    }\n",
       "\n",
       "    .dataframe thead th {\n",
       "        text-align: right;\n",
       "    }\n",
       "</style>\n",
       "<table border=\"1\" class=\"dataframe\">\n",
       "  <thead>\n",
       "    <tr style=\"text-align: right;\">\n",
       "      <th></th>\n",
       "      <th>web-scraper-order</th>\n",
       "      <th>title_raw</th>\n",
       "      <th>price_raw</th>\n",
       "      <th>mileage_raw</th>\n",
       "      <th>drive_raw</th>\n",
       "      <th>cartype_raw</th>\n",
       "      <th>fuel_raw</th>\n",
       "      <th>ps_raw</th>\n",
       "      <th>fuel_consumption_raw</th>\n",
       "      <th>seller_raw</th>\n",
       "      <th>selleraddress_raw</th>\n",
       "      <th>model</th>\n",
       "      <th>price</th>\n",
       "      <th>mileage</th>\n",
       "      <th>fuel_consumption</th>\n",
       "      <th>ps</th>\n",
       "    </tr>\n",
       "  </thead>\n",
       "  <tbody>\n",
       "    <tr>\n",
       "      <th>7</th>\n",
       "      <td>1734006879-8</td>\n",
       "      <td>AUDI Avant ,8 tfsi</td>\n",
       "      <td>CHF 3'490.–</td>\n",
       "      <td>220'946 km</td>\n",
       "      <td>-</td>\n",
       "      <td>Kombi</td>\n",
       "      <td>Benzin</td>\n",
       "      <td>-</td>\n",
       "      <td>-</td>\n",
       "      <td>DADA Einkauf und Verkauf</td>\n",
       "      <td>UEBERLANDSTRASSE 100A, 8103 unterengstringen (...</td>\n",
       "      <td>AUDI Avant ,8 tfsi</td>\n",
       "      <td>3490</td>\n",
       "      <td>220946</td>\n",
       "      <td>NaN</td>\n",
       "      <td>200</td>\n",
       "    </tr>\n",
       "    <tr>\n",
       "      <th>13</th>\n",
       "      <td>1734006899-14</td>\n",
       "      <td>AUDI A4 45 TFSI S line S-tronic quattro</td>\n",
       "      <td>CHF 39'900.–</td>\n",
       "      <td>900 km</td>\n",
       "      <td>Allrad</td>\n",
       "      <td>Limousine</td>\n",
       "      <td>Benzin</td>\n",
       "      <td>265 PS (195 kW)</td>\n",
       "      <td>-</td>\n",
       "      <td>Piena Corsa Auto AG</td>\n",
       "      <td>Schönbühlstrasse 14, 8635 Dürnten</td>\n",
       "      <td>45 TFSI S line S-tronic quattro</td>\n",
       "      <td>39900</td>\n",
       "      <td>900</td>\n",
       "      <td>NaN</td>\n",
       "      <td>265</td>\n",
       "    </tr>\n",
       "    <tr>\n",
       "      <th>16</th>\n",
       "      <td>1734006906-17</td>\n",
       "      <td>AUDI 1.8T</td>\n",
       "      <td>CHF 1'800.–</td>\n",
       "      <td>222'992 km</td>\n",
       "      <td>-</td>\n",
       "      <td>Cabriolet</td>\n",
       "      <td>Benzin</td>\n",
       "      <td>-</td>\n",
       "      <td>-</td>\n",
       "      <td>A. Zaidan Automobile GmbH</td>\n",
       "      <td>Gewerbestrasse 14 - Birchweg 26, 8200 Schaffha...</td>\n",
       "      <td>AUDI 1.8T</td>\n",
       "      <td>1800</td>\n",
       "      <td>222992</td>\n",
       "      <td>NaN</td>\n",
       "      <td>163</td>\n",
       "    </tr>\n",
       "    <tr>\n",
       "      <th>34</th>\n",
       "      <td>1734006950-35</td>\n",
       "      <td>AUDI A4 2.8 quattro</td>\n",
       "      <td>CHF 2'900.–</td>\n",
       "      <td>230'000 km</td>\n",
       "      <td>Allrad</td>\n",
       "      <td>Limousine</td>\n",
       "      <td>Benzin</td>\n",
       "      <td>174 PS (128 kW)</td>\n",
       "      <td>-</td>\n",
       "      <td>AAA Autohandel Grosu</td>\n",
       "      <td>Hauptstrasse 51, 6418 6418 Rothenthurm</td>\n",
       "      <td>2.8 quattro</td>\n",
       "      <td>2900</td>\n",
       "      <td>230000</td>\n",
       "      <td>NaN</td>\n",
       "      <td>174</td>\n",
       "    </tr>\n",
       "    <tr>\n",
       "      <th>74</th>\n",
       "      <td>1734007053-75</td>\n",
       "      <td>AUDI A4 2.0</td>\n",
       "      <td>CHF 1'900.–</td>\n",
       "      <td>122'587 km</td>\n",
       "      <td>-</td>\n",
       "      <td>Limousine</td>\n",
       "      <td>Benzin</td>\n",
       "      <td>-</td>\n",
       "      <td>-</td>\n",
       "      <td>Signal Automobile GmbH</td>\n",
       "      <td>Riedackerweg 14, 8107 Buchs ZH</td>\n",
       "      <td>2.0</td>\n",
       "      <td>1900</td>\n",
       "      <td>122587</td>\n",
       "      <td>NaN</td>\n",
       "      <td>204</td>\n",
       "    </tr>\n",
       "  </tbody>\n",
       "</table>\n",
       "</div>"
      ],
      "text/plain": [
       "   web-scraper-order                                title_raw     price_raw  \\\n",
       "7       1734006879-8                       AUDI Avant ,8 tfsi   CHF 3'490.–   \n",
       "13     1734006899-14  AUDI A4 45 TFSI S line S-tronic quattro  CHF 39'900.–   \n",
       "16     1734006906-17                                AUDI 1.8T   CHF 1'800.–   \n",
       "34     1734006950-35                      AUDI A4 2.8 quattro   CHF 2'900.–   \n",
       "74     1734007053-75                              AUDI A4 2.0   CHF 1'900.–   \n",
       "\n",
       "   mileage_raw drive_raw cartype_raw fuel_raw           ps_raw  \\\n",
       "7   220'946 km         -       Kombi   Benzin                -   \n",
       "13      900 km    Allrad   Limousine   Benzin  265 PS (195 kW)   \n",
       "16  222'992 km         -   Cabriolet   Benzin                -   \n",
       "34  230'000 km    Allrad   Limousine   Benzin  174 PS (128 kW)   \n",
       "74  122'587 km         -   Limousine   Benzin                -   \n",
       "\n",
       "   fuel_consumption_raw                 seller_raw  \\\n",
       "7                     -   DADA Einkauf und Verkauf   \n",
       "13                    -        Piena Corsa Auto AG   \n",
       "16                    -  A. Zaidan Automobile GmbH   \n",
       "34                    -       AAA Autohandel Grosu   \n",
       "74                    -     Signal Automobile GmbH   \n",
       "\n",
       "                                    selleraddress_raw  \\\n",
       "7   UEBERLANDSTRASSE 100A, 8103 unterengstringen (...   \n",
       "13                  Schönbühlstrasse 14, 8635 Dürnten   \n",
       "16  Gewerbestrasse 14 - Birchweg 26, 8200 Schaffha...   \n",
       "34             Hauptstrasse 51, 6418 6418 Rothenthurm   \n",
       "74                     Riedackerweg 14, 8107 Buchs ZH   \n",
       "\n",
       "                              model  price  mileage  fuel_consumption   ps  \n",
       "7                AUDI Avant ,8 tfsi   3490   220946               NaN  200  \n",
       "13  45 TFSI S line S-tronic quattro  39900      900               NaN  265  \n",
       "16                        AUDI 1.8T   1800   222992               NaN  163  \n",
       "34                      2.8 quattro   2900   230000               NaN  174  \n",
       "74                              2.0   1900   122587               NaN  204  "
      ]
     },
     "execution_count": 60,
     "metadata": {},
     "output_type": "execute_result"
    }
   ],
   "source": [
    "# Count missing values\n",
    "print(pd.isna(df).sum())\n",
    "\n",
    "# Identify rows with missing values\n",
    "df[df.isna().any(axis=1)].head()"
   ]
  },
  {
   "cell_type": "markdown",
   "metadata": {},
   "source": [
    "### 2.5 Count and identify duplicate values"
   ]
  },
  {
   "cell_type": "code",
   "execution_count": 61,
   "metadata": {},
   "outputs": [
    {
     "name": "stdout",
     "output_type": "stream",
     "text": [
      "0\n"
     ]
    }
   ],
   "source": [
    "# # Count duplicated values\n",
    "print(df.duplicated().sum())\n",
    "\n",
    "# Identify rows with duplicated values, e.g.:\n",
    "#df[df[['web-scraper-order', 'price_raw', 'address_raw']].duplicated()]"
   ]
  },
  {
   "cell_type": "markdown",
   "metadata": {},
   "source": [
    "### 2.6 Create additional variables"
   ]
  },
  {
   "cell_type": "markdown",
   "metadata": {},
   "source": [
    "Create new binary (0/1) variable \"Sportcar\" from the title"
   ]
  },
  {
   "cell_type": "code",
   "execution_count": 68,
   "metadata": {},
   "outputs": [
    {
     "name": "stdout",
     "output_type": "stream",
     "text": [
      "273\n"
     ]
    },
    {
     "data": {
      "text/html": [
       "<div>\n",
       "<style scoped>\n",
       "    .dataframe tbody tr th:only-of-type {\n",
       "        vertical-align: middle;\n",
       "    }\n",
       "\n",
       "    .dataframe tbody tr th {\n",
       "        vertical-align: top;\n",
       "    }\n",
       "\n",
       "    .dataframe thead th {\n",
       "        text-align: right;\n",
       "    }\n",
       "</style>\n",
       "<table border=\"1\" class=\"dataframe\">\n",
       "  <thead>\n",
       "    <tr style=\"text-align: right;\">\n",
       "      <th></th>\n",
       "      <th>title_raw</th>\n",
       "      <th>sportcar</th>\n",
       "    </tr>\n",
       "  </thead>\n",
       "  <tbody>\n",
       "    <tr>\n",
       "      <th>0</th>\n",
       "      <td>AUDI A4 Avant 40 TDI quattro S-tronic</td>\n",
       "      <td>1</td>\n",
       "    </tr>\n",
       "    <tr>\n",
       "      <th>1</th>\n",
       "      <td>AUDI A4 Avant 1.4 TFSI Sport S-Tronic</td>\n",
       "      <td>1</td>\n",
       "    </tr>\n",
       "    <tr>\n",
       "      <th>2</th>\n",
       "      <td>AUDI A4 Cabriolet 1.8 Turbo</td>\n",
       "      <td>1</td>\n",
       "    </tr>\n",
       "    <tr>\n",
       "      <th>3</th>\n",
       "      <td>AUDI A4 Avant 2.0 TDI Sport quattro S-tronic</td>\n",
       "      <td>1</td>\n",
       "    </tr>\n",
       "    <tr>\n",
       "      <th>4</th>\n",
       "      <td>AUDI A4 Avant 40 TDI Sport quattro S-tronic</td>\n",
       "      <td>1</td>\n",
       "    </tr>\n",
       "    <tr>\n",
       "      <th>...</th>\n",
       "      <td>...</td>\n",
       "      <td>...</td>\n",
       "    </tr>\n",
       "    <tr>\n",
       "      <th>404</th>\n",
       "      <td>AUDI A4 Avant 40 TFSI S line S-tronic quattro</td>\n",
       "      <td>1</td>\n",
       "    </tr>\n",
       "    <tr>\n",
       "      <th>405</th>\n",
       "      <td>AUDI A4 Avant 40 TFSI S line S-tronic quattro</td>\n",
       "      <td>1</td>\n",
       "    </tr>\n",
       "    <tr>\n",
       "      <th>406</th>\n",
       "      <td>AUDI A4 Avant 3.0 V6 50 TDI S line quattro tip...</td>\n",
       "      <td>1</td>\n",
       "    </tr>\n",
       "    <tr>\n",
       "      <th>407</th>\n",
       "      <td>AUDI A4 1.8 TFSI multitronic</td>\n",
       "      <td>0</td>\n",
       "    </tr>\n",
       "    <tr>\n",
       "      <th>408</th>\n",
       "      <td>AUDI A4 40 TDI S-line quattro Sports Edition 4...</td>\n",
       "      <td>1</td>\n",
       "    </tr>\n",
       "  </tbody>\n",
       "</table>\n",
       "<p>409 rows × 2 columns</p>\n",
       "</div>"
      ],
      "text/plain": [
       "                                             title_raw  sportcar\n",
       "0                AUDI A4 Avant 40 TDI quattro S-tronic         1\n",
       "1                AUDI A4 Avant 1.4 TFSI Sport S-Tronic         1\n",
       "2                          AUDI A4 Cabriolet 1.8 Turbo         1\n",
       "3         AUDI A4 Avant 2.0 TDI Sport quattro S-tronic         1\n",
       "4          AUDI A4 Avant 40 TDI Sport quattro S-tronic         1\n",
       "..                                                 ...       ...\n",
       "404      AUDI A4 Avant 40 TFSI S line S-tronic quattro         1\n",
       "405      AUDI A4 Avant 40 TFSI S line S-tronic quattro         1\n",
       "406  AUDI A4 Avant 3.0 V6 50 TDI S line quattro tip...         1\n",
       "407                       AUDI A4 1.8 TFSI multitronic         0\n",
       "408  AUDI A4 40 TDI S-line quattro Sports Edition 4...         1\n",
       "\n",
       "[409 rows x 2 columns]"
      ]
     },
     "execution_count": 68,
     "metadata": {},
     "output_type": "execute_result"
    }
   ],
   "source": [
    "# Create a pattern which can be used to search the variable 'title_raw\n",
    "pattern = 'S-tronic|S-Tronic|Turbo|Sport|S line|S-line|Sline|S-Line'\n",
    "\n",
    "# Create new variable 'Sportcar' as binary dummy (0/1) variable\n",
    "df['sportcar'] = df['title_raw'].str.contains(pat = pattern).astype(int)\n",
    "print(df['sportcar'].sum())\n",
    "\n",
    "# Show values\n",
    "df[['title_raw','sportcar']]"
   ]
  },
  {
   "cell_type": "markdown",
   "metadata": {},
   "source": [
    "Create new categorical variable for mileage"
   ]
  },
  {
   "cell_type": "code",
   "execution_count": 83,
   "metadata": {},
   "outputs": [
    {
     "name": "stdout",
     "output_type": "stream",
     "text": [
      "     mileage      mileage_cat\n",
      "0     136000  100000 - 149999\n",
      "1      79116   50000 - 990000\n",
      "2     100000   50000 - 990000\n",
      "3     218000    200000-249999\n",
      "4     107000  100000 - 149999\n",
      "..       ...              ...\n",
      "404       20        0 - 49999\n",
      "405       10        0 - 49999\n",
      "406   119000  100000 - 149999\n",
      "407   121700  100000 - 149999\n",
      "408    18900        0 - 49999\n",
      "\n",
      "[409 rows x 2 columns]\n"
     ]
    },
    {
     "data": {
      "text/plain": [
       "mileage_cat\n",
       "0 - 49999          89\n",
       "50000 - 990000     83\n",
       "100000 - 149999    84\n",
       "150000-199999      73\n",
       "200000-249999      42\n",
       "250000-299999      22\n",
       "300000-349999      10\n",
       "350000-399999       3\n",
       "400000-449999       3\n",
       "450000-499999       0\n",
       "Name: count, dtype: int64"
      ]
     },
     "execution_count": 83,
     "metadata": {},
     "output_type": "execute_result"
    }
   ],
   "source": [
    "# Define classes (labels)\n",
    "labels = ['0 - 49999', '50000 - 990000', '100000 - 149999', '150000-199999', '200000-249999', '250000-299999', '300000-349999', '350000-399999', '400000-449999', '450000-499999']\n",
    "\n",
    "# Use the .cut method from pandas to divide the numeric values in classes\n",
    "df[\"mileage_cat\"] = pd.cut(df['mileage'], bins=[0, 50000, 100000, 150000, 200000, 250000, 300000, 350000, 400000, 450000, 500000], labels=labels)\n",
    "\n",
    "# Show original data and classes\n",
    "print(df[['mileage', 'mileage_cat']])\n",
    "\n",
    "# Count the frequency of each class and sort them\n",
    "df['mileage_cat'].value_counts().sort_index()"
   ]
  },
  {
   "cell_type": "markdown",
   "metadata": {},
   "source": [
    "Create new categorical variable for PS"
   ]
  },
  {
   "cell_type": "code",
   "execution_count": 81,
   "metadata": {},
   "outputs": [
    {
     "name": "stdout",
     "output_type": "stream",
     "text": [
      "      ps   ps_cat\n",
      "0    190  150-199\n",
      "1    150  100-149\n",
      "2    163  150-199\n",
      "3    190  150-199\n",
      "4    190  150-199\n",
      "..   ...      ...\n",
      "404  204  200-249\n",
      "405  204  200-249\n",
      "406  286  250-299\n",
      "407  160  150-199\n",
      "408  204  200-249\n",
      "\n",
      "[409 rows x 2 columns]\n"
     ]
    },
    {
     "data": {
      "text/plain": [
       "ps_cat\n",
       "0 - 0.99      0\n",
       "50-99         0\n",
       "100-149      60\n",
       "150-199     168\n",
       "200-249     123\n",
       "250-299      58\n",
       "Name: count, dtype: int64"
      ]
     },
     "execution_count": 81,
     "metadata": {},
     "output_type": "execute_result"
    }
   ],
   "source": [
    "# Define classes (labels)\n",
    "labels = ['0 - 0.99', '50-99', '100-149', '150-199', '200-249', '250-299']\n",
    "\n",
    "# Use the .cut method from pandas to divide the numeric values in classes\n",
    "df[\"ps_cat\"] = pd.cut(df['ps'], bins=[0, 50, 100, 150, 200, 250, 300], labels=labels)\n",
    "\n",
    "# Show original data and classes\n",
    "print(df[['ps', 'ps_cat']])\n",
    "\n",
    "# Count the frequency of each class and sort them\n",
    "df['ps_cat'].value_counts().sort_index()"
   ]
  },
  {
   "cell_type": "markdown",
   "metadata": {},
   "source": [
    "Create new categorical variable for fuel_consumption"
   ]
  },
  {
   "cell_type": "code",
   "execution_count": 80,
   "metadata": {},
   "outputs": [
    {
     "name": "stdout",
     "output_type": "stream",
     "text": [
      "     fuel_consumption fuel_consumption_cat\n",
      "0                 6.1            6.00-6.99\n",
      "1                 5.5            5.00-5.99\n",
      "2                 8.7            8.00-8.99\n",
      "3                 4.5            4.00-4.99\n",
      "4                 5.0            4.00-4.99\n",
      "..                ...                  ...\n",
      "404               NaN                  NaN\n",
      "405               NaN                  NaN\n",
      "406               NaN                  NaN\n",
      "407               7.2            7.00-7.99\n",
      "408               NaN                  NaN\n",
      "\n",
      "[409 rows x 2 columns]\n"
     ]
    },
    {
     "data": {
      "text/plain": [
       "fuel_consumption_cat\n",
       "0.00 - 0.99     0\n",
       "1.00-1.99       0\n",
       "2.00-2.99       0\n",
       "3.00-3.99       3\n",
       "4.00-4.99      68\n",
       "5.00-5.99      95\n",
       "6.00-6.99      72\n",
       "7.00-7.99      57\n",
       "8.00-8.99      32\n",
       "9.00-9.99      23\n",
       "10.00-10.99     8\n",
       "11.00-11.99     2\n",
       "Name: count, dtype: int64"
      ]
     },
     "execution_count": 80,
     "metadata": {},
     "output_type": "execute_result"
    }
   ],
   "source": [
    "# Define classes (labels)\n",
    "labels = ['0.00 - 0.99', '1.00-1.99', '2.00-2.99', '3.00-3.99', '4.00-4.99', '5.00-5.99', '6.00-6.99', '7.00-7.99', '8.00-8.99', '9.00-9.99', '10.00-10.99', '11.00-11.99']\n",
    "\n",
    "# Use the .cut method from pandas to divide the numeric values in classes\n",
    "df[\"fuel_consumption_cat\"] = pd.cut(df['fuel_consumption'], bins=[0, 1, 2, 3, 4, 5, 6, 7, 8, 9, 10, 11, 12], labels=labels)\n",
    "\n",
    "# Show original data and classes\n",
    "print(df[['fuel_consumption', 'fuel_consumption_cat']])\n",
    "\n",
    "# Count the frequency of each class and sort them\n",
    "df['fuel_consumption_cat'].value_counts().sort_index()"
   ]
  },
  {
   "cell_type": "markdown",
   "metadata": {},
   "source": [
    "Create new categorical variable for price"
   ]
  },
  {
   "cell_type": "code",
   "execution_count": 77,
   "metadata": {},
   "outputs": [
    {
     "name": "stdout",
     "output_type": "stream",
     "text": [
      "     price    price_cat\n",
      "0    21999  20000-29999\n",
      "1    21990  20000-29999\n",
      "2     7900     0 - 9999\n",
      "3    13900  10000-19999\n",
      "4    27800  20000-29999\n",
      "..     ...          ...\n",
      "404  47990  40000-49999\n",
      "405  47990  40000-49999\n",
      "406  31990  30000-39999\n",
      "407   9599     0 - 9999\n",
      "408  39900  30000-39999\n",
      "\n",
      "[409 rows x 2 columns]\n"
     ]
    },
    {
     "data": {
      "text/plain": [
       "price_cat\n",
       "0 - 9999       128\n",
       "10000-19999     89\n",
       "20000-29999     97\n",
       "30000-39999     46\n",
       "40000-49999     29\n",
       "50000-59999     13\n",
       "60000-69999      4\n",
       "70000-79999      3\n",
       "80000-89999      0\n",
       "Name: count, dtype: int64"
      ]
     },
     "execution_count": 77,
     "metadata": {},
     "output_type": "execute_result"
    }
   ],
   "source": [
    "# Define classes (labels)\n",
    "labels = ['0 - 9999', '10000-19999', '20000-29999', '30000-39999', '40000-49999', '50000-59999', '60000-69999', '70000-79999', '80000-89999']\n",
    "\n",
    "# Use the .cut method from pandas to divide the numeric values in classes\n",
    "df[\"price_cat\"] = pd.cut(df['price'], bins=[0, 10000, 20000, 30000, 40000, 50000, 60000, 70000, 80000, 90000], labels=labels)\n",
    "\n",
    "# Show original data and classes\n",
    "print(df[['price', 'price_cat']])\n",
    "\n",
    "# Count the frequency of each class and sort them\n",
    "df['price_cat'].value_counts().sort_index()"
   ]
  },
  {
   "cell_type": "markdown",
   "metadata": {},
   "source": [
    "EVTL: Count, identify & remove missing values"
   ]
  },
  {
   "cell_type": "code",
   "execution_count": null,
   "metadata": {},
   "outputs": [],
   "source": [
    "# Count missing values\n",
    "print('Count missing values per variable')\n",
    "print(pd.isna(df).sum(), '\\n')\n",
    "\n",
    "# Identify rows with missing values\n",
    "print('Identify rows with missing values')\n",
    "print(df.loc[df.isna().any(axis=1)][['rooms', 'area', 'price']], '\\n')\n",
    "\n",
    "# Drop rows where at least one element is missing.\n",
    "df2 = df.dropna()\n",
    "df2.head()"
   ]
  },
  {
   "cell_type": "markdown",
   "metadata": {},
   "source": [
    "Save data to file"
   ]
  },
  {
   "cell_type": "code",
   "execution_count": 65,
   "metadata": {},
   "outputs": [],
   "source": [
    "df.to_csv('./data/as24_a4.csv', \n",
    "          sep=\",\", \n",
    "          encoding='utf-8',\n",
    "          index=False)"
   ]
  },
  {
   "cell_type": "markdown",
   "metadata": {},
   "source": [
    "Creating a dictionary with e.g. price, antrieb, ps etc."
   ]
  },
  {
   "cell_type": "code",
   "execution_count": null,
   "metadata": {},
   "outputs": [],
   "source": [
    "# Creating a Python dictionary with data\n",
    "data = {\n",
    "    \"Name\": [\"Alice\", \"Bob\", \"Charlie\", \"David\"],\n",
    "    \"Age\": [24, 27, 22, 32],\n",
    "    \"City\": [\"New York\", \"San Francisco\", \"Los Angeles\", \"Chicago\"]\n",
    "}\n",
    "\n",
    "# Converting the dictionary to a DataFrame\n",
    "df = pd.DataFrame(data)\n",
    "df"
   ]
  },
  {
   "cell_type": "markdown",
   "metadata": {},
   "source": [
    "### 3. Data Storage"
   ]
  },
  {
   "cell_type": "markdown",
   "metadata": {},
   "source": [
    "3.1 In a database like MySQL or PostgreSQL\n",
    "- Vorlesungunterlagen SWxxx, Slide XXX\n",
    "- Exercises SW 2, Task 4\n",
    "\n",
    "3. Speicherung der Daten in Datenbanken wie SQLite, MySQL oder PostgreSQL:\n",
    "Zu finden in Woche 02, Aufgabe 4:\n",
    "- Speicherung und Abfrage von Daten in einer Datenbank mithilfe des Jupyter-Notebooks\n",
    "`apartments_database_Python.ipynb`.\n"
   ]
  },
  {
   "cell_type": "markdown",
   "metadata": {},
   "source": [
    "Create sqlite data base"
   ]
  },
  {
   "cell_type": "code",
   "execution_count": 23,
   "metadata": {},
   "outputs": [
    {
     "name": "stdout",
     "output_type": "stream",
     "text": [
      "as24_a4.db\n"
     ]
    }
   ],
   "source": [
    "# Create data base\n",
    "conn = sqlite3.connect('as24_a4.db') \n",
    "\n",
    "# Create cursor object to execute SQL commands\n",
    "cursor = conn.cursor()\n",
    "\n",
    "# Show dbs in the directory\n",
    "flist = fnmatch.filter(os.listdir('.'), '*.db')\n",
    "for i in flist:\n",
    "    print(i)\n"
   ]
  },
  {
   "cell_type": "markdown",
   "metadata": {},
   "source": [
    "Close db connection (if open)"
   ]
  },
  {
   "cell_type": "code",
   "execution_count": 25,
   "metadata": {},
   "outputs": [
    {
     "name": "stdout",
     "output_type": "stream",
     "text": [
      "False\n"
     ]
    }
   ],
   "source": [
    "# Close db connection (if open)\n",
    "try:\n",
    "    if check_conn(conn):\n",
    "        conn.close()\n",
    "    else:\n",
    "        pass\n",
    "except:\n",
    "    pass\n",
    "\n",
    "# Status (True = open, False = closed)\n",
    "print(check_conn(conn))"
   ]
  },
  {
   "cell_type": "markdown",
   "metadata": {},
   "source": [
    "### 4. Exploratory data analysis (EDA)"
   ]
  },
  {
   "cell_type": "markdown",
   "metadata": {},
   "source": [
    "4.1 Rich non-graphical and graphical exploratory data analysis (EDA)\n",
    "- Vorlesungunterlagen SWxxx, Slide XXX\n",
    "- Exercises SW3, Task 3\n",
    "- Exercises SW 4, Task 3, 4\n",
    "\n",
    "\n",
    "4. Explorative Datenanalyse (EDA):\n",
    "Zu finden in Woche 04, Aufgabe 2:\n",
    "- Identifikation und Entfernung von Ausreißern sowie Visualisierung von Statistiken und\n",
    "Verteilungen.\n",
    "\n",
    "Zu finden in Woche 05, Aufgabe 1:\n",
    "- Nutzung von Python für grundlegende GIS-Funktionen und die Analyse räumlicher Daten."
   ]
  },
  {
   "cell_type": "markdown",
   "metadata": {},
   "source": [
    "Creating multiplots with .subplots()"
   ]
  },
  {
   "cell_type": "code",
   "execution_count": null,
   "metadata": {},
   "outputs": [],
   "source": [
    " # Define 2x2 subplots and whether x- and y-axes should be shared\n",
    "fig, ax = plt.subplots(2, 2, figsize=(7,4), sharex=True, sharey=True)\n",
    "\n",
    "ax[0, 0].scatter(x, y, s=100, marker='o', color='orangered') # row=0, col=0\n",
    "ax[1, 0].scatter(x, z, s=100, marker='+', color='blue') # row=1, col=0\n",
    "ax[0, 1].scatter(x, g, s=100, marker='*', color='deepskyblue') # row=0, col=1\n",
    "ax[1, 1].scatter(x, e, s=100, marker='^', color='orange') # row=1, col=1\n",
    "\n",
    "# Adding title\n",
    "ax[0, 0].set_title('Figure at [0, 0]', fontsize = 12)\n",
    "ax[1, 0].set_title('Figure at [1, 0]', fontsize = 12)\n",
    "ax[0, 1].set_title('Figure at [0, 1]', fontsize = 12)\n",
    "ax[1, 1].set_title('Figure at [1, 1]', fontsize = 12)\n",
    "\n",
    "# Adding x-labels\n",
    "ax[0, 0].set_xlabel('', fontsize = 10)\n",
    "ax[1, 0].set_xlabel('x-label', fontsize = 10)\n",
    "ax[0, 1].set_xlabel('', fontsize = 10)\n",
    "ax[1, 1].set_xlabel('x-label', fontsize = 10)\n",
    "\n",
    "# Adding y-labels\n",
    "ax[0, 0].set_ylabel('n-label', fontsize = 10)\n",
    "ax[1, 0].set_ylabel('y-label', fontsize = 10)\n",
    "ax[0, 1].set_ylabel('', fontsize = 10)\n",
    "ax[1, 1].set_ylabel('', fontsize = 10)\n",
    "\n",
    "# Set the spacing between subplots\n",
    "plt.subplots_adjust(left=0.1,\n",
    "                    bottom=0.1, \n",
    "                    right=0.9, \n",
    "                    top=0.9, \n",
    "                    wspace=0.4, \n",
    "                    hspace=0.4)\n",
    "\n",
    "plt.show()"
   ]
  },
  {
   "cell_type": "markdown",
   "metadata": {},
   "source": [
    "### 5. Modeling Method"
   ]
  },
  {
   "cell_type": "markdown",
   "metadata": {},
   "source": [
    "5.1 Use of multiple linear regression, regression tree or random forest regression as the modeling method\n",
    "- Vorlesungunterlagen SWxxx, Slide XXX\n",
    "- Exercises SW6, Task 2-5\n",
    "- Exercises SW7, Task 1-2\n",
    "\n",
    "5. Verwendung von Modellierungsmethoden (z. B. multiple lineare Regression, Entscheidungsbaum,\n",
    "Random Forest):\n",
    "Zu finden in Woche 07, Aufgaben 1 und 2:\n",
    "- Durchführung von linearer Regression und Analyse von Entscheidungsbäumen sowie Random\n",
    "Forest."
   ]
  },
  {
   "cell_type": "markdown",
   "metadata": {},
   "source": [
    "### 6. Model evaluation"
   ]
  },
  {
   "cell_type": "markdown",
   "metadata": {},
   "source": [
    "6.1 Model evaluation using suitable measures of fit (e.g. r-squared, rmse)\n",
    "- Vorlesungunterlagen SWxxx, Slide XXX\n",
    "- - Exercises SW7, Task 1-2\n",
    "\n",
    "\n",
    "6. Modellevaluation (z. B. R-Quadrat, RMSE):\n",
    "Zu finden in Woche 07, Aufgabe 1 (b, c):\n",
    "- Evaluation der Modelle mithilfe von R-Quadrat und Residuen.\n"
   ]
  },
  {
   "cell_type": "markdown",
   "metadata": {},
   "source": [
    "### 7. Interpretation"
   ]
  },
  {
   "cell_type": "markdown",
   "metadata": {},
   "source": [
    "7.1 Correct interpretation of model results and measures of fit\n",
    "- Vorlesungunterlagen SWxxx, Slide XXX\n",
    "- Exercises SW7, Task 2\n",
    "\n",
    "\n",
    "7. Korrekte Interpretation von Modellergebnissen und Gütemaßen:\n",
    "Zu finden in Woche 07, Aufgaben 1 und 2:\n",
    "- Interpretation der Ergebnisse in den Bereichen lineare Regression und Random Forest.\n",
    "\n",
    "\n",
    "8. Bereitstellung der Materialien in Jupyter-Notebooks:\n",
    "In allen Wochen enthalten:\n",
    "- Jede Aufgabe verlangt die Einreichung von Jupyter-Notebooks als `.html`-Dateien mit\n",
    "entsprechenden Erklärungen."
   ]
  },
  {
   "cell_type": "markdown",
   "metadata": {},
   "source": [
    "1. Kreativität der Umsetzung:\n",
    "- Hängt davon ab, wie einzigartig und innovativ du die Aufgaben kombinierst und erweiterst.\n",
    "2. Verwendung von MySQL- oder PostgreSQL-Datenbanken:\n",
    "Zu finden in Woche 02, Aufgabe 4:\n",
    "- Standardmäßig wird SQLite verwendet, die Anpassung auf MySQL/PostgreSQL könnte jedoch\n",
    "Kreativität zeigen.\n",
    "3. Integration und Visualisierung geografischer Daten:\n",
    "Zu finden in Woche 05, Aufgaben 1 und 3:\n",
    "- GIS-Funktionen und Analyse nächster Nachbarn.\n",
    "4. Verwendung des Chi-Quadrat-Tests oder ANOVA:\n",
    "Zu finden in Woche 06, Aufgaben 3 und 4:\n",
    "- Aufgaben mit Fokus auf einseitige Varianzanalyse (ANOVA) und Chi-Quadrat-Tests.\n",
    "5. Verwendung von mehr als einem Modell für Vorhersagen:\n",
    "Zu finden in Woche 07, Aufgaben 1 und 2:\n",
    "- Einsatz von mehreren Modellen wie linearer Regression und Random Forest.\n",
    "Projektpräsentation in Videoform (Maximal 3 Punkte):\n",
    "Die Präsentation sollte den Inhalt und die Struktur der oben genannten Aufgaben klar und\n",
    "überzeugend darstellen."
   ]
  },
  {
   "cell_type": "code",
   "execution_count": null,
   "metadata": {},
   "outputs": [],
   "source": [
    "import os\n",
    "import platform\n",
    "import socket\n",
    "from platform import python_version\n",
    "from datetime import datetime\n",
    "\n",
    "print('-----------------------------------')\n",
    "print(os.name.upper())\n",
    "print(platform.system(), '|', platform.release())\n",
    "print('Datetime:', datetime.now().strftime(\"%Y-%m-%d %H:%M:%S\"))\n",
    "print('Python Version:', python_version())\n",
    "print('-----------------------------------')"
   ]
  }
 ],
 "metadata": {
  "kernelspec": {
   "display_name": "Python 3",
   "language": "python",
   "name": "python3"
  },
  "language_info": {
   "codemirror_mode": {
    "name": "ipython",
    "version": 3
   },
   "file_extension": ".py",
   "mimetype": "text/x-python",
   "name": "python",
   "nbconvert_exporter": "python",
   "pygments_lexer": "ipython3",
   "version": "3.11.10"
  }
 },
 "nbformat": 4,
 "nbformat_minor": 2
}
